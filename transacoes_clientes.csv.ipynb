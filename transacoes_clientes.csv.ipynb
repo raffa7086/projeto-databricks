{
 "cells": [
  {
   "cell_type": "code",
   "execution_count": 0,
   "metadata": {
    "application/vnd.databricks.v1+cell": {
     "cellMetadata": {
      "byteLimit": 2048000,
      "implicitDf": true,
      "rowLimit": 10000
     },
     "inputWidgets": {},
     "nuid": "e22233dc-e0f8-4e1c-a6be-2745b58f7a7e",
     "showTitle": false,
     "tableResultSettingsMap": {
      "0": {
       "dataGridStateBlob": "{\"version\":1,\"tableState\":{\"columnPinning\":{\"left\":[\"#row_number#\"],\"right\":[]},\"columnSizing\":{\"cliente\":159},\"columnVisibility\":{}},\"settings\":{\"columns\":{}},\"syncTimestamp\":1760820974949}",
       "filterBlob": null,
       "queryPlanFiltersBlob": null,
       "tableResultIndex": 0
      }
     },
     "title": ""
    }
   },
   "outputs": [],
   "source": [
    "import pandas as pd\n",
    "\n",
    "df_spark = spark.read.table(\"transacoes_cliente\")\n",
    "df = df_spark.toPandas()\n",
    "\n",
    "display(df)"
   ]
  },
  {
   "cell_type": "markdown",
   "metadata": {
    "application/vnd.databricks.v1+cell": {
     "cellMetadata": {
      "byteLimit": 2048000,
      "rowLimit": 10000
     },
     "inputWidgets": {},
     "nuid": "c510810c-76d4-4fd3-8653-1422a6220920",
     "showTitle": false,
     "tableResultSettingsMap": {},
     "title": ""
    }
   },
   "source": [
    "#Criando coluna total de compras"
   ]
  },
  {
   "cell_type": "code",
   "execution_count": 0,
   "metadata": {
    "application/vnd.databricks.v1+cell": {
     "cellMetadata": {
      "byteLimit": 2048000,
      "rowLimit": 10000
     },
     "inputWidgets": {},
     "nuid": "75565038-7249-4241-a169-3418f823882e",
     "showTitle": false,
     "tableResultSettingsMap": {
      "0": {
       "dataGridStateBlob": "{\"version\":1,\"tableState\":{\"columnPinning\":{\"left\":[\"#row_number#\"],\"right\":[]},\"columnSizing\":{},\"columnVisibility\":{}},\"settings\":{\"columns\":{}},\"syncTimestamp\":1760822060458}",
       "filterBlob": null,
       "queryPlanFiltersBlob": null,
       "tableResultIndex": 0
      }
     },
     "title": ""
    }
   },
   "outputs": [],
   "source": [
    "df[\"qt_total_compra\"] = df[\"preco_btc\"] * df[\"quantidade_btc\"].round(2)\n",
    "display(df)"
   ]
  },
  {
   "cell_type": "code",
   "execution_count": 0,
   "metadata": {
    "application/vnd.databricks.v1+cell": {
     "cellMetadata": {
      "byteLimit": 2048000,
      "rowLimit": 10000
     },
     "inputWidgets": {},
     "nuid": "b7cd36e1-c552-4ba9-b11b-09a0a3d255bb",
     "showTitle": false,
     "tableResultSettingsMap": {},
     "title": ""
    }
   },
   "outputs": [],
   "source": [
    "!pip install requests"
   ]
  },
  {
   "cell_type": "code",
   "execution_count": 0,
   "metadata": {
    "application/vnd.databricks.v1+cell": {
     "cellMetadata": {
      "byteLimit": 2048000,
      "rowLimit": 10000
     },
     "inputWidgets": {},
     "nuid": "30ec39d9-3d8d-48d7-982f-f6533bcf085b",
     "showTitle": false,
     "tableResultSettingsMap": {},
     "title": ""
    }
   },
   "outputs": [],
   "source": [
    "import requests\n",
    "\n",
    "url = \"https://api.coinbase.com/v2/prices/spot\"\n",
    "\n",
    "response = requests.get(url)\n",
    "\n",
    "dados = response.json()\n",
    "\n",
    "preco_atual_btc = float(dados[\"data\"][\"amount\"])\n",
    "print(preco_atual_btc)"
   ]
  },
  {
   "cell_type": "code",
   "execution_count": 0,
   "metadata": {
    "application/vnd.databricks.v1+cell": {
     "cellMetadata": {
      "byteLimit": 2048000,
      "rowLimit": 10000
     },
     "inputWidgets": {},
     "nuid": "22d7d2e1-41e5-43b5-ba7c-08fb3b06e172",
     "showTitle": false,
     "tableResultSettingsMap": {},
     "title": ""
    }
   },
   "outputs": [],
   "source": [
    "url_dolar = \"https://economia.awesomeapi.com.br/last/USD-BRL\"\n",
    "\n",
    "response_dolar = requests.get(url_dolar)\n",
    "dados_dolar = response_dolar.json()\n",
    "\n",
    "cotacao_dolar_real = float(dados_dolar[\"USDBRL\"][\"bid\"])\n",
    "preco_atual_btc_real = preco_atual_btc * cotacao_dolar_real\n",
    "print(preco_atual_btc_real)\n"
   ]
  },
  {
   "cell_type": "code",
   "execution_count": 0,
   "metadata": {
    "application/vnd.databricks.v1+cell": {
     "cellMetadata": {
      "byteLimit": 2048000,
      "rowLimit": 10000
     },
     "inputWidgets": {},
     "nuid": "8ca43fda-d85f-439c-951c-b41f4607047b",
     "showTitle": false,
     "tableResultSettingsMap": {
      "0": {
       "dataGridStateBlob": "{\"version\":1,\"tableState\":{\"columnPinning\":{\"left\":[\"#row_number#\"],\"right\":[]},\"columnSizing\":{},\"columnVisibility\":{}},\"settings\":{\"columns\":{}},\"syncTimestamp\":1760826019448}",
       "filterBlob": null,
       "queryPlanFiltersBlob": null,
       "tableResultIndex": 0
      }
     },
     "title": ""
    }
   },
   "outputs": [],
   "source": [
    "def verificar_lucro(preco_btc):\n",
    "    if preco_btc < preco_atual_btc_real:\n",
    "        return \"Lucro\"\n",
    "    else:\n",
    "        return \"Prejuízo\"\n",
    "\n",
    "#Aplicando a função na coluna resutltado_operacao\n",
    "df[\"mes_compra\"] = df[\"data_compra\"].dt.strftime(\"%Y-%m\")\n",
    "df[\"resultado_operacao\"] = df[\"preco_btc\"].apply(verificar_lucro)\n",
    "display(df)"
   ]
  },
  {
   "cell_type": "code",
   "execution_count": 0,
   "metadata": {
    "application/vnd.databricks.v1+cell": {
     "cellMetadata": {
      "byteLimit": 2048000,
      "rowLimit": 10000
     },
     "inputWidgets": {},
     "nuid": "7f9761f9-8cf2-4ee4-bfcb-d87946777bf6",
     "showTitle": false,
     "tableResultSettingsMap": {},
     "title": ""
    }
   },
   "outputs": [],
   "source": [
    "!pip install plotly\n"
   ]
  },
  {
   "cell_type": "code",
   "execution_count": 0,
   "metadata": {
    "application/vnd.databricks.v1+cell": {
     "cellMetadata": {
      "byteLimit": 2048000,
      "rowLimit": 10000
     },
     "inputWidgets": {},
     "nuid": "3941005b-7a5c-413d-857e-864aa4799d7f",
     "showTitle": false,
     "tableResultSettingsMap": {},
     "title": ""
    }
   },
   "outputs": [],
   "source": [
    "import plotly.express as px\n",
    "\n",
    "#Gráfico 1: Total de compra por mês\n",
    "\n",
    "fig1 = px.bar(df.groupby(\"mes_compra\")[\"qt_total_compra\"].sum().reset_index(),\n",
    "              x=\"mes_compra\", \n",
    "              y=\"qt_total_compra\",\n",
    "              title=\"Total de compra por mês\",\n",
    "              labels={\"mes_compra\": \"Mês\", \"qt_total_compra\": \"Quantidade de compra\"},\n",
    "              text_auto=True)\n",
    "fig1.show()\n",
    "#Gráfico 2: Total de compra por mês e resultado da operação"
   ]
  }
 ],
 "metadata": {
  "application/vnd.databricks.v1+notebook": {
   "computePreferences": null,
   "dashboards": [],
   "environmentMetadata": {
    "base_environment": "",
    "environment_version": "4"
   },
   "inputWidgetPreferences": null,
   "language": "python",
   "notebookMetadata": {
    "mostRecentlyExecutedCommandWithImplicitDF": {
     "commandId": -1,
     "dataframes": [
      "_sqldf"
     ]
    },
    "pythonIndentUnit": 4
   },
   "notebookName": "transacoes_clientes.csv",
   "widgets": {}
  },
  "language_info": {
   "name": "python"
  }
 },
 "nbformat": 4,
 "nbformat_minor": 0
}
